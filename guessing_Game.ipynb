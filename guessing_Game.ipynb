{
 "cells": [
  {
   "cell_type": "code",
   "execution_count": 1,
   "metadata": {},
   "outputs": [],
   "source": [
    "import random"
   ]
  },
  {
   "cell_type": "code",
   "execution_count": 5,
   "metadata": {},
   "outputs": [
    {
     "name": "stdout",
     "output_type": "stream",
     "text": [
      "too low guess higher😢\n",
      "too high guess lower😂😂\n",
      "too high guess lower😂😂\n",
      "too low guess higher😢\n",
      "too low guess higher😢\n",
      "\n",
      " 🎊🎊🎉🎉🎊🎊\n",
      "\n",
      " congrats you guessed it:\n",
      "you guessed it in 6 attempts\n",
      "Next time be good guesser, you'r bad in guessing.\n"
     ]
    }
   ],
   "source": [
    "jackpaot = random.randint(1,100)\n",
    "guess = int(input(\"Chalo number guess karo :\"))\n",
    "count_Attempts = 1\n",
    "\n",
    "while guess != jackpaot:\n",
    "    if guess < jackpaot:\n",
    "        print(\"too low guess higher 😢\")\n",
    "    else:\n",
    "        print(\"too high guess lower 😂😂\")\n",
    "    \n",
    "    guess = int(input(\"Chalo number guess karo :\"))\n",
    "    count_Attempts += 1\n",
    "print(\"\\n 🎊🎊🎉🎉🎊🎊\")\n",
    "print(\"congrats you guessed it:\")\n",
    "print(f\"you guessed it in {count_Attempts} attempts\")\n",
    "if count_Attempts > 4:\n",
    "    print(\"Next time be good guesser, you'r bad in guessing.\")\n"
   ]
  },
  {
   "cell_type": "code",
   "execution_count": null,
   "metadata": {},
   "outputs": [],
   "source": []
  }
 ],
 "metadata": {
  "kernelspec": {
   "display_name": "Python 3",
   "language": "python",
   "name": "python3"
  },
  "language_info": {
   "codemirror_mode": {
    "name": "ipython",
    "version": 3
   },
   "file_extension": ".py",
   "mimetype": "text/x-python",
   "name": "python",
   "nbconvert_exporter": "python",
   "pygments_lexer": "ipython3",
   "version": "3.11.0"
  }
 },
 "nbformat": 4,
 "nbformat_minor": 2
}
